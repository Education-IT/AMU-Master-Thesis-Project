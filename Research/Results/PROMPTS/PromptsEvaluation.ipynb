{
 "cells": [
  {
   "cell_type": "code",
   "execution_count": null,
   "metadata": {},
   "outputs": [
    {
     "name": "stdout",
     "output_type": "stream",
     "text": [
      "Liczba zwycięstw dla każdej kolumny:\n",
      "Useful concept:           11\n",
      "Verified concept:         10\n",
      "Relevant concept:          8\n",
      "Helpful concept:           7\n",
      "Contextual concept:        6\n",
      "Useful reference:          5\n",
      "Referencial concept:       5\n",
      "Relevant reference:        4\n",
      "Infomative concept:        4\n",
      "Verified reference:        3\n",
      "Concept:                   3\n",
      "Infomative reference:      2\n",
      "Helpful reference:         2\n",
      "Referencial reference:     2\n",
      "Contextual reference:      2\n",
      "Reference:                 1\n",
      "Name: count, dtype: int64\n",
      "\n",
      "Najlepszy prompt: Useful concept:\n"
     ]
    }
   ],
   "source": [
    "import pandas as pd\n",
    "\n",
    "file_path = \"./Prompt.xlsx\"\n",
    "df = pd.read_excel(file_path, sheet_name=\"Step2\")\n",
    "\n",
    "score_columns = df.columns[2:]\n",
    "\n",
    "best_columns = df[score_columns].idxmax(axis=1)\n",
    "\n",
    "column_counts = best_columns.value_counts()\n",
    "\n",
    "print(\"Liczba zwycięstw dla każdej kolumny:\")\n",
    "print(column_counts)\n",
    "\n",
    "best_prompt = column_counts.idxmax()\n",
    "print(f\"\\nNajlepszy prompt: {best_prompt}\")\n"
   ]
  },
  {
   "cell_type": "code",
   "execution_count": 13,
   "metadata": {},
   "outputs": [
    {
     "name": "stdout",
     "output_type": "stream",
     "text": [
      "Analiza dla arkusza: Step2\n",
      "Suma rankingów dla każdej kolumny:\n",
      "Useful concept:           413.0\n",
      "Relevant concept:         532.0\n",
      "Helpful concept:          532.0\n",
      "Useful reference:         541.0\n",
      "Referencial concept:      586.0\n",
      "Reference:                620.0\n",
      "Helpful reference:        630.0\n",
      "Contextual concept:       635.0\n",
      "Referencial reference:    635.0\n",
      "Concept:                  638.0\n",
      "Verified concept:         651.0\n",
      "Infomative concept:       662.0\n",
      "Infomative reference:     669.0\n",
      "Relevant reference:       674.0\n",
      "Contextual reference:     684.0\n",
      "Verified reference:       743.0\n",
      "dtype: float64\n",
      "\n",
      "Najlepszy prompt: Useful concept:\n"
     ]
    }
   ],
   "source": [
    "import pandas as pd\n",
    "\n",
    "file_path = \"./Prompt.xlsx\"\n",
    "sheet_name = \"Step2\" \n",
    "df = pd.read_excel(file_path, sheet_name=sheet_name)\n",
    "\n",
    "score_columns = df.columns[2:]\n",
    "df[score_columns] = df[score_columns].apply(pd.to_numeric, errors='coerce')\n",
    "\n",
    "rankings = df[score_columns].rank(method=\"min\", axis=1, ascending=False)\n",
    "column_scores = rankings.sum()\n",
    "sorted_scores = column_scores.sort_values()\n",
    "\n",
    "print(f\"Analiza dla arkusza: {sheet_name}\")\n",
    "print(\"Suma rankingów dla każdej kolumny:\")\n",
    "print(sorted_scores)\n",
    "\n",
    "best_prompt = sorted_scores.idxmin()\n",
    "print(f\"\\nNajlepszy prompt: {best_prompt}\")\n"
   ]
  }
 ],
 "metadata": {
  "kernelspec": {
   "display_name": "Python 3",
   "language": "python",
   "name": "python3"
  },
  "language_info": {
   "codemirror_mode": {
    "name": "ipython",
    "version": 3
   },
   "file_extension": ".py",
   "mimetype": "text/x-python",
   "name": "python",
   "nbconvert_exporter": "python",
   "pygments_lexer": "ipython3",
   "version": "3.12.6"
  }
 },
 "nbformat": 4,
 "nbformat_minor": 2
}
