{
 "cells": [
  {
   "cell_type": "markdown",
   "metadata": {},
   "source": [
    "### Sort ExDomains DESC"
   ]
  },
  {
   "cell_type": "code",
   "execution_count": 6,
   "metadata": {},
   "outputs": [],
   "source": [
    "import json\n",
    "with open('RawExDomains.json', 'r') as file:\n",
    "    data = json.load(file)\n",
    "\n",
    "for domain in data.values():\n",
    "    domain_sorted = {k: v for k, v in sorted(domain.items(), key=lambda item: item[1], reverse=True)}\n",
    "    domain.clear()\n",
    "    domain.update(domain_sorted)\n",
    "\n",
    "sorted_data = {k: v for k, v in sorted(data.items(), key=lambda item: item[1][\"count\"], reverse=True)}\n",
    "\n",
    "with open('ExDomainsSorted.json', 'w') as file:\n",
    "    json.dump(sorted_data, file, indent=4)"
   ]
  },
  {
   "cell_type": "markdown",
   "metadata": {},
   "source": [
    "<hr>\n",
    "\n",
    "### GET Domains WHERE Count >= X (10)"
   ]
  },
  {
   "cell_type": "code",
   "execution_count": 7,
   "metadata": {},
   "outputs": [],
   "source": [
    "import json\n",
    "\n",
    "Threshold = 10\n",
    "\n",
    "with open('ExDomainsSorted.json', 'r') as file:\n",
    "    data = json.load(file)\n",
    "\n",
    "data = {domain: values for domain, values in data.items() if values['count'] >= Threshold}\n",
    "\n",
    "for domain, values in data.items():\n",
    "    values = {k: v for k, v in values.items() if k == 'count' or v >= Threshold}\n",
    "    data[domain] = values\n",
    "\n",
    "for domain in data.values():\n",
    "    domain_sorted = {k: v for k, v in sorted(domain.items(), key=lambda item: item[1], reverse=True)}\n",
    "    domain.clear()\n",
    "    domain.update(domain_sorted)\n",
    "\n",
    "sorted_data = {k: v for k, v in sorted(data.items(), key=lambda item: item[1][\"count\"], reverse=True)}\n",
    "\n",
    "with open('ExDomainsSorted' + str(Threshold) + '.json', 'w') as file:\n",
    "    json.dump(sorted_data, file, indent=4)\n"
   ]
  },
  {
   "cell_type": "markdown",
   "metadata": {},
   "source": [
    "<hr>\n",
    "\n",
    "### Create CSV file for Domains WHERE Count >= Threshold "
   ]
  },
  {
   "cell_type": "code",
   "execution_count": 8,
   "metadata": {},
   "outputs": [],
   "source": [
    "import json\n",
    "import csv\n",
    "\n",
    "Threshold = 500\n",
    "\n",
    "with open('exDomainsSorted.json', 'r') as file:\n",
    "    data = json.load(file)\n",
    "\n",
    "data = {domain: values for domain, values in data.items() if values['count'] > Threshold}\n",
    "\n",
    "csv_data = [(domain, values['count']) for domain, values in data.items()]\n",
    "\n",
    "with open('ExDomains' + str(Threshold) + '.csv', 'w', newline='', encoding='utf-8') as file:\n",
    "    writer = csv.writer(file, delimiter=';')\n",
    "    writer.writerow(['Domain', 'Count'])\n",
    "    writer.writerows(csv_data)"
   ]
  },
  {
   "cell_type": "code",
   "execution_count": 5,
   "metadata": {},
   "outputs": [],
   "source": [
    "import json\n",
    "import csv\n",
    "\n",
    "with open('rawExDomains.json', 'r') as file:\n",
    "    data = json.load(file)\n",
    "\n",
    "Threshold = 1\n",
    "\n",
    "tasks = ['llmzszl']\n",
    "filtered_data = {}\n",
    "\n",
    "for domain, values in data.items():\n",
    "    task_data = {task: count for task, count in values.items() if task in tasks and isinstance(count, int) and count >= Threshold}\n",
    "    if task_data:\n",
    "        filtered_data[domain] = {'count': values['count'], **task_data}\n",
    "\n",
    "sorted_filtered_data = {k: v for k, v in sorted(filtered_data.items(), key=lambda item: item[1]['count'], reverse=True)}\n",
    "\n",
    "with open('filtered_tasks.csv', 'w', newline='', encoding='utf-8') as file:\n",
    "    writer = csv.writer(file, delimiter=';')\n",
    "    writer.writerow(['Domain', 'Count'] + tasks)\n",
    "    for domain, values in sorted_filtered_data.items():\n",
    "        row = [domain, values['count']] + [values.get(task, 0) for task in tasks]\n",
    "        writer.writerow(row)"
   ]
  }
 ],
 "metadata": {
  "kernelspec": {
   "display_name": "Python 3",
   "language": "python",
   "name": "python3"
  },
  "language_info": {
   "codemirror_mode": {
    "name": "ipython",
    "version": 3
   },
   "file_extension": ".py",
   "mimetype": "text/x-python",
   "name": "python",
   "nbconvert_exporter": "python",
   "pygments_lexer": "ipython3",
   "version": "3.12.6"
  }
 },
 "nbformat": 4,
 "nbformat_minor": 2
}
